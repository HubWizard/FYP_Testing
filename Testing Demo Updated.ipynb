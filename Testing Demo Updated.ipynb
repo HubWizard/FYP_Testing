{
 "cells": [
  {
   "cell_type": "code",
<<<<<<< HEAD
   "execution_count": 1,
   "id": "5849e9cd",
   "metadata": {},
   "outputs": [],
=======
<<<<<<< HEAD
   "execution_count": 1,
   "id": "5849e9cd",
   "metadata": {},
   "outputs": [
    {
     "ename": "error",
     "evalue": "OpenCV(4.7.0) D:\\a\\opencv-python\\opencv-python\\opencv\\modules\\imgproc\\src\\bilateral_filter.dispatch.cpp:409: error: (-215:Assertion failed) !_src.empty() in function 'cv::bilateralFilter'\n",
     "output_type": "error",
     "traceback": [
      "\u001b[1;31m---------------------------------------------------------------------------\u001b[0m",
      "\u001b[1;31merror\u001b[0m                                     Traceback (most recent call last)",
      "\u001b[1;32m~\\AppData\\Local\\Temp/ipykernel_12336/839579659.py\u001b[0m in \u001b[0;36m<module>\u001b[1;34m\u001b[0m\n\u001b[0;32m     10\u001b[0m \u001b[1;33m\u001b[0m\u001b[0m\n\u001b[0;32m     11\u001b[0m     \u001b[1;31m# We send this frame to GazeTracking to analyze it\u001b[0m\u001b[1;33m\u001b[0m\u001b[1;33m\u001b[0m\u001b[0m\n\u001b[1;32m---> 12\u001b[1;33m     \u001b[0mgaze\u001b[0m\u001b[1;33m.\u001b[0m\u001b[0mrefresh\u001b[0m\u001b[1;33m(\u001b[0m\u001b[0mframe\u001b[0m\u001b[1;33m)\u001b[0m\u001b[1;33m\u001b[0m\u001b[1;33m\u001b[0m\u001b[0m\n\u001b[0m\u001b[0;32m     13\u001b[0m \u001b[1;33m\u001b[0m\u001b[0m\n\u001b[0;32m     14\u001b[0m     \u001b[0mframe\u001b[0m \u001b[1;33m=\u001b[0m \u001b[0mgaze\u001b[0m\u001b[1;33m.\u001b[0m\u001b[0mannotated_frame\u001b[0m\u001b[1;33m(\u001b[0m\u001b[1;33m)\u001b[0m\u001b[1;33m\u001b[0m\u001b[1;33m\u001b[0m\u001b[0m\n",
      "\u001b[1;32m~\\FYP Project\\GazeTracking-master\\gaze_tracking\\gaze_tracking.py\u001b[0m in \u001b[0;36mrefresh\u001b[1;34m(self, frame)\u001b[0m\n\u001b[0;32m     61\u001b[0m         \"\"\"\n\u001b[0;32m     62\u001b[0m         \u001b[0mself\u001b[0m\u001b[1;33m.\u001b[0m\u001b[0mframe\u001b[0m \u001b[1;33m=\u001b[0m \u001b[0mframe\u001b[0m\u001b[1;33m\u001b[0m\u001b[1;33m\u001b[0m\u001b[0m\n\u001b[1;32m---> 63\u001b[1;33m         \u001b[0mself\u001b[0m\u001b[1;33m.\u001b[0m\u001b[0m_analyze\u001b[0m\u001b[1;33m(\u001b[0m\u001b[1;33m)\u001b[0m\u001b[1;33m\u001b[0m\u001b[1;33m\u001b[0m\u001b[0m\n\u001b[0m\u001b[0;32m     64\u001b[0m \u001b[1;33m\u001b[0m\u001b[0m\n\u001b[0;32m     65\u001b[0m     \u001b[1;32mdef\u001b[0m \u001b[0mpupil_left_coords\u001b[0m\u001b[1;33m(\u001b[0m\u001b[0mself\u001b[0m\u001b[1;33m)\u001b[0m\u001b[1;33m:\u001b[0m\u001b[1;33m\u001b[0m\u001b[1;33m\u001b[0m\u001b[0m\n",
      "\u001b[1;32m~\\FYP Project\\GazeTracking-master\\gaze_tracking\\gaze_tracking.py\u001b[0m in \u001b[0;36m_analyze\u001b[1;34m(self)\u001b[0m\n\u001b[0;32m     47\u001b[0m         \u001b[1;32mtry\u001b[0m\u001b[1;33m:\u001b[0m\u001b[1;33m\u001b[0m\u001b[1;33m\u001b[0m\u001b[0m\n\u001b[0;32m     48\u001b[0m             \u001b[0mlandmarks\u001b[0m \u001b[1;33m=\u001b[0m \u001b[0mself\u001b[0m\u001b[1;33m.\u001b[0m\u001b[0m_predictor\u001b[0m\u001b[1;33m(\u001b[0m\u001b[0mframe\u001b[0m\u001b[1;33m,\u001b[0m \u001b[0mfaces\u001b[0m\u001b[1;33m[\u001b[0m\u001b[1;36m0\u001b[0m\u001b[1;33m]\u001b[0m\u001b[1;33m)\u001b[0m\u001b[1;33m\u001b[0m\u001b[1;33m\u001b[0m\u001b[0m\n\u001b[1;32m---> 49\u001b[1;33m             \u001b[0mself\u001b[0m\u001b[1;33m.\u001b[0m\u001b[0meye_left\u001b[0m \u001b[1;33m=\u001b[0m \u001b[0mEye\u001b[0m\u001b[1;33m(\u001b[0m\u001b[0mframe\u001b[0m\u001b[1;33m,\u001b[0m \u001b[0mlandmarks\u001b[0m\u001b[1;33m,\u001b[0m \u001b[1;36m0\u001b[0m\u001b[1;33m,\u001b[0m \u001b[0mself\u001b[0m\u001b[1;33m.\u001b[0m\u001b[0mcalibration\u001b[0m\u001b[1;33m)\u001b[0m\u001b[1;33m\u001b[0m\u001b[1;33m\u001b[0m\u001b[0m\n\u001b[0m\u001b[0;32m     50\u001b[0m             \u001b[0mself\u001b[0m\u001b[1;33m.\u001b[0m\u001b[0meye_right\u001b[0m \u001b[1;33m=\u001b[0m \u001b[0mEye\u001b[0m\u001b[1;33m(\u001b[0m\u001b[0mframe\u001b[0m\u001b[1;33m,\u001b[0m \u001b[0mlandmarks\u001b[0m\u001b[1;33m,\u001b[0m \u001b[1;36m1\u001b[0m\u001b[1;33m,\u001b[0m \u001b[0mself\u001b[0m\u001b[1;33m.\u001b[0m\u001b[0mcalibration\u001b[0m\u001b[1;33m)\u001b[0m\u001b[1;33m\u001b[0m\u001b[1;33m\u001b[0m\u001b[0m\n\u001b[0;32m     51\u001b[0m \u001b[1;33m\u001b[0m\u001b[0m\n",
      "\u001b[1;32m~\\FYP Project\\GazeTracking-master\\gaze_tracking\\eye.py\u001b[0m in \u001b[0;36m__init__\u001b[1;34m(self, original_frame, landmarks, side, calibration)\u001b[0m\n\u001b[0;32m     21\u001b[0m         \u001b[0mself\u001b[0m\u001b[1;33m.\u001b[0m\u001b[0mlandmark_points\u001b[0m \u001b[1;33m=\u001b[0m \u001b[1;32mNone\u001b[0m\u001b[1;33m\u001b[0m\u001b[1;33m\u001b[0m\u001b[0m\n\u001b[0;32m     22\u001b[0m \u001b[1;33m\u001b[0m\u001b[0m\n\u001b[1;32m---> 23\u001b[1;33m         \u001b[0mself\u001b[0m\u001b[1;33m.\u001b[0m\u001b[0m_analyze\u001b[0m\u001b[1;33m(\u001b[0m\u001b[0moriginal_frame\u001b[0m\u001b[1;33m,\u001b[0m \u001b[0mlandmarks\u001b[0m\u001b[1;33m,\u001b[0m \u001b[0mside\u001b[0m\u001b[1;33m,\u001b[0m \u001b[0mcalibration\u001b[0m\u001b[1;33m)\u001b[0m\u001b[1;33m\u001b[0m\u001b[1;33m\u001b[0m\u001b[0m\n\u001b[0m\u001b[0;32m     24\u001b[0m \u001b[1;33m\u001b[0m\u001b[0m\n\u001b[0;32m     25\u001b[0m     \u001b[1;33m@\u001b[0m\u001b[0mstaticmethod\u001b[0m\u001b[1;33m\u001b[0m\u001b[1;33m\u001b[0m\u001b[0m\n",
      "\u001b[1;32m~\\FYP Project\\GazeTracking-master\\gaze_tracking\\eye.py\u001b[0m in \u001b[0;36m_analyze\u001b[1;34m(self, original_frame, landmarks, side, calibration)\u001b[0m\n\u001b[0;32m    117\u001b[0m \u001b[1;33m\u001b[0m\u001b[0m\n\u001b[0;32m    118\u001b[0m         \u001b[0mthreshold\u001b[0m \u001b[1;33m=\u001b[0m \u001b[0mcalibration\u001b[0m\u001b[1;33m.\u001b[0m\u001b[0mthreshold\u001b[0m\u001b[1;33m(\u001b[0m\u001b[0mside\u001b[0m\u001b[1;33m)\u001b[0m\u001b[1;33m\u001b[0m\u001b[1;33m\u001b[0m\u001b[0m\n\u001b[1;32m--> 119\u001b[1;33m         \u001b[0mself\u001b[0m\u001b[1;33m.\u001b[0m\u001b[0mpupil\u001b[0m \u001b[1;33m=\u001b[0m \u001b[0mPupil\u001b[0m\u001b[1;33m(\u001b[0m\u001b[0mself\u001b[0m\u001b[1;33m.\u001b[0m\u001b[0mframe\u001b[0m\u001b[1;33m,\u001b[0m \u001b[0mthreshold\u001b[0m\u001b[1;33m)\u001b[0m\u001b[1;33m\u001b[0m\u001b[1;33m\u001b[0m\u001b[0m\n\u001b[0m",
      "\u001b[1;32m~\\FYP Project\\GazeTracking-master\\gaze_tracking\\pupil.py\u001b[0m in \u001b[0;36m__init__\u001b[1;34m(self, eye_frame, threshold)\u001b[0m\n\u001b[0;32m     15\u001b[0m         \u001b[0mself\u001b[0m\u001b[1;33m.\u001b[0m\u001b[0my\u001b[0m \u001b[1;33m=\u001b[0m \u001b[1;32mNone\u001b[0m\u001b[1;33m\u001b[0m\u001b[1;33m\u001b[0m\u001b[0m\n\u001b[0;32m     16\u001b[0m \u001b[1;33m\u001b[0m\u001b[0m\n\u001b[1;32m---> 17\u001b[1;33m         \u001b[0mself\u001b[0m\u001b[1;33m.\u001b[0m\u001b[0mdetect_iris\u001b[0m\u001b[1;33m(\u001b[0m\u001b[0meye_frame\u001b[0m\u001b[1;33m)\u001b[0m\u001b[1;33m\u001b[0m\u001b[1;33m\u001b[0m\u001b[0m\n\u001b[0m\u001b[0;32m     18\u001b[0m \u001b[1;33m\u001b[0m\u001b[0m\n\u001b[0;32m     19\u001b[0m     \u001b[1;33m@\u001b[0m\u001b[0mstaticmethod\u001b[0m\u001b[1;33m\u001b[0m\u001b[1;33m\u001b[0m\u001b[0m\n",
      "\u001b[1;32m~\\FYP Project\\GazeTracking-master\\gaze_tracking\\pupil.py\u001b[0m in \u001b[0;36mdetect_iris\u001b[1;34m(self, eye_frame)\u001b[0m\n\u001b[0;32m     42\u001b[0m             \u001b[0meye_frame\u001b[0m \u001b[1;33m(\u001b[0m\u001b[0mnumpy\u001b[0m\u001b[1;33m.\u001b[0m\u001b[0mndarray\u001b[0m\u001b[1;33m)\u001b[0m\u001b[1;33m:\u001b[0m \u001b[0mFrame\u001b[0m \u001b[0mcontaining\u001b[0m \u001b[0man\u001b[0m \u001b[0meye\u001b[0m \u001b[1;32mand\u001b[0m \u001b[0mnothing\u001b[0m \u001b[1;32melse\u001b[0m\u001b[1;33m\u001b[0m\u001b[1;33m\u001b[0m\u001b[0m\n\u001b[0;32m     43\u001b[0m         \"\"\"\n\u001b[1;32m---> 44\u001b[1;33m         \u001b[0mself\u001b[0m\u001b[1;33m.\u001b[0m\u001b[0miris_frame\u001b[0m \u001b[1;33m=\u001b[0m \u001b[0mself\u001b[0m\u001b[1;33m.\u001b[0m\u001b[0mimage_processing\u001b[0m\u001b[1;33m(\u001b[0m\u001b[0meye_frame\u001b[0m\u001b[1;33m,\u001b[0m \u001b[0mself\u001b[0m\u001b[1;33m.\u001b[0m\u001b[0mthreshold\u001b[0m\u001b[1;33m)\u001b[0m\u001b[1;33m\u001b[0m\u001b[1;33m\u001b[0m\u001b[0m\n\u001b[0m\u001b[0;32m     45\u001b[0m \u001b[1;33m\u001b[0m\u001b[0m\n\u001b[0;32m     46\u001b[0m         \u001b[0mcontours\u001b[0m\u001b[1;33m,\u001b[0m \u001b[0m_\u001b[0m \u001b[1;33m=\u001b[0m \u001b[0mcv2\u001b[0m\u001b[1;33m.\u001b[0m\u001b[0mfindContours\u001b[0m\u001b[1;33m(\u001b[0m\u001b[0mself\u001b[0m\u001b[1;33m.\u001b[0m\u001b[0miris_frame\u001b[0m\u001b[1;33m,\u001b[0m \u001b[0mcv2\u001b[0m\u001b[1;33m.\u001b[0m\u001b[0mRETR_TREE\u001b[0m\u001b[1;33m,\u001b[0m \u001b[0mcv2\u001b[0m\u001b[1;33m.\u001b[0m\u001b[0mCHAIN_APPROX_NONE\u001b[0m\u001b[1;33m)\u001b[0m\u001b[1;33m[\u001b[0m\u001b[1;33m-\u001b[0m\u001b[1;36m2\u001b[0m\u001b[1;33m:\u001b[0m\u001b[1;33m]\u001b[0m\u001b[1;33m\u001b[0m\u001b[1;33m\u001b[0m\u001b[0m\n",
      "\u001b[1;32m~\\FYP Project\\GazeTracking-master\\gaze_tracking\\pupil.py\u001b[0m in \u001b[0;36mimage_processing\u001b[1;34m(eye_frame, threshold)\u001b[0m\n\u001b[0;32m     29\u001b[0m         \"\"\"\n\u001b[0;32m     30\u001b[0m         \u001b[0mkernel\u001b[0m \u001b[1;33m=\u001b[0m \u001b[0mnp\u001b[0m\u001b[1;33m.\u001b[0m\u001b[0mones\u001b[0m\u001b[1;33m(\u001b[0m\u001b[1;33m(\u001b[0m\u001b[1;36m3\u001b[0m\u001b[1;33m,\u001b[0m \u001b[1;36m3\u001b[0m\u001b[1;33m)\u001b[0m\u001b[1;33m,\u001b[0m \u001b[0mnp\u001b[0m\u001b[1;33m.\u001b[0m\u001b[0muint8\u001b[0m\u001b[1;33m)\u001b[0m\u001b[1;33m\u001b[0m\u001b[1;33m\u001b[0m\u001b[0m\n\u001b[1;32m---> 31\u001b[1;33m         \u001b[0mnew_frame\u001b[0m \u001b[1;33m=\u001b[0m \u001b[0mcv2\u001b[0m\u001b[1;33m.\u001b[0m\u001b[0mbilateralFilter\u001b[0m\u001b[1;33m(\u001b[0m\u001b[0meye_frame\u001b[0m\u001b[1;33m,\u001b[0m \u001b[1;36m10\u001b[0m\u001b[1;33m,\u001b[0m \u001b[1;36m15\u001b[0m\u001b[1;33m,\u001b[0m \u001b[1;36m15\u001b[0m\u001b[1;33m)\u001b[0m\u001b[1;33m\u001b[0m\u001b[1;33m\u001b[0m\u001b[0m\n\u001b[0m\u001b[0;32m     32\u001b[0m         \u001b[0mnew_frame\u001b[0m \u001b[1;33m=\u001b[0m \u001b[0mcv2\u001b[0m\u001b[1;33m.\u001b[0m\u001b[0merode\u001b[0m\u001b[1;33m(\u001b[0m\u001b[0mnew_frame\u001b[0m\u001b[1;33m,\u001b[0m \u001b[0mkernel\u001b[0m\u001b[1;33m,\u001b[0m \u001b[0miterations\u001b[0m\u001b[1;33m=\u001b[0m\u001b[1;36m3\u001b[0m\u001b[1;33m)\u001b[0m\u001b[1;33m\u001b[0m\u001b[1;33m\u001b[0m\u001b[0m\n\u001b[0;32m     33\u001b[0m         \u001b[0mnew_frame\u001b[0m \u001b[1;33m=\u001b[0m \u001b[0mcv2\u001b[0m\u001b[1;33m.\u001b[0m\u001b[0mthreshold\u001b[0m\u001b[1;33m(\u001b[0m\u001b[0mnew_frame\u001b[0m\u001b[1;33m,\u001b[0m \u001b[0mthreshold\u001b[0m\u001b[1;33m,\u001b[0m \u001b[1;36m255\u001b[0m\u001b[1;33m,\u001b[0m \u001b[0mcv2\u001b[0m\u001b[1;33m.\u001b[0m\u001b[0mTHRESH_BINARY\u001b[0m\u001b[1;33m)\u001b[0m\u001b[1;33m[\u001b[0m\u001b[1;36m1\u001b[0m\u001b[1;33m]\u001b[0m\u001b[1;33m\u001b[0m\u001b[1;33m\u001b[0m\u001b[0m\n",
      "\u001b[1;31merror\u001b[0m: OpenCV(4.7.0) D:\\a\\opencv-python\\opencv-python\\opencv\\modules\\imgproc\\src\\bilateral_filter.dispatch.cpp:409: error: (-215:Assertion failed) !_src.empty() in function 'cv::bilateralFilter'\n"
     ]
    }
   ],
=======
   "execution_count": null,
   "id": "5849e9cd",
   "metadata": {},
   "outputs": [],
>>>>>>> origin/master
>>>>>>> ca1f3c2a14ec87312699bc0a8e633579a521c800
   "source": [
    "import cv2\n",
    "from gaze_tracking import GazeTracking\n",
    "\n",
    "gaze = GazeTracking()\n",
    "webcam = cv2.VideoCapture(0)\n",
    "\n",
    "while True:\n",
    "    # We get a new frame from the webcam\n",
    "    _, frame = webcam.read()\n",
    "\n",
    "    # We send this frame to GazeTracking to analyze it\n",
    "    gaze.refresh(frame)\n",
    "\n",
    "    frame = gaze.annotated_frame()\n",
    "    text = \"\"\n",
    "\n",
    "    if gaze.is_blinking():\n",
    "        text = \"Blinking\"\n",
<<<<<<< HEAD
=======
    "    elif gaze.is_center():\n",
    "        text = \"Looking center\"\n",
    "    elif gaze.is_bottom() and gaze.is_center():\n",
    "        text = \"Looking bottom\"\n",
    "    elif gaze.is_top() and gaze.is_center():\n",
    "        text = \"Looking top\"\n",
>>>>>>> ca1f3c2a14ec87312699bc0a8e633579a521c800
    "    elif gaze.is_top() and gaze.is_right():\n",
    "        text = \"Looking Top Right\"\n",
    "    elif gaze.is_bottom() and gaze.is_right():\n",
    "        text = \"Looking Bottom Right\"\n",
    "    elif gaze.is_top() and gaze.is_left():\n",
    "        text = \"Looking Top Left\"\n",
    "    elif gaze.is_bottom() and gaze.is_left():\n",
    "        text = \"Looking Bottom Left\"\n",
    "    elif gaze.is_right():\n",
    "        text = \"Looking right\"\n",
    "    elif gaze.is_left():\n",
    "        text = \"Looking left\"\n",
<<<<<<< HEAD
    "    elif gaze.is_center():\n",
    "        text = \"Looking center\"\n",
    "    elif gaze.is_bottom():\n",
    "        text = \"Looking bottom\"\n",
    "    elif gaze.is_top():\n",
    "        text = \"Looking top\"\n",
=======
    "   \n",
    "    \n",
>>>>>>> ca1f3c2a14ec87312699bc0a8e633579a521c800
    "\n",
    "    cv2.putText(frame, text, (90, 60), cv2.FONT_HERSHEY_DUPLEX, 1.6, (147, 58, 31), 2)\n",
    "\n",
    "    left_pupil = gaze.pupil_left_coords()\n",
    "    right_pupil = gaze.pupil_right_coords()\n",
    "    vert_ratio = gaze.vertical_ratio()\n",
    "    horz_ratio = gaze.horizontal_ratio()\n",
<<<<<<< HEAD
    "    cv2.putText(frame, \"Left pupil:  \" + str(left_pupil), (90, 130), cv2.FONT_HERSHEY_DUPLEX, 0.9, (147, 58, 31), 1)\n",
    "    cv2.putText(frame, \"Right pupil: \" + str(right_pupil), (90, 165), cv2.FONT_HERSHEY_DUPLEX, 0.9, (147, 58, 31), 1)\n",
    "    cv2.putText(frame, \"Vertical Ratio \" + str(vert_ratio), (90, 195), cv2.FONT_HERSHEY_DUPLEX, 0.9, (147, 58, 31), 1)\n",
    "    cv2.putText(frame, \"Horizontal Ratio \" + str(vert_ratio), (90, 225), cv2.FONT_HERSHEY_DUPLEX, 0.9, (147, 58, 31), 1)\n",
=======
    "    cv2.putText(frame, \"Left pupil:  \" + str(left_pupil), (10, 130), cv2.FONT_HERSHEY_DUPLEX, 0.95, (255, 255, 255), 1)\n",
    "    cv2.putText(frame, \"Right pupil: \" + str(right_pupil), (10, 165), cv2.FONT_HERSHEY_DUPLEX, 0.95, (255, 255, 255), 1)\n",
    "    cv2.putText(frame, \"Vertical Ratio \" + str(vert_ratio), (10, 200), cv2.FONT_HERSHEY_DUPLEX, 0.95, (255, 255, 255), 1)\n",
    "    cv2.putText(frame, \"Horizontal Ratio \" + str(horz_ratio), (10, 235), cv2.FONT_HERSHEY_DUPLEX, 0.95, (255, 255, 255), 1)\n",
>>>>>>> ca1f3c2a14ec87312699bc0a8e633579a521c800
    "    cv2.imshow(\"Tester 1 callibration\", frame)\n",
    "\n",
    "    if cv2.waitKey(5) == 27:\n",
    "        break\n",
    "   \n",
    "webcam.release()\n",
    "cv2.destroyAllWindows()"
   ]
  },
  {
   "cell_type": "code",
<<<<<<< HEAD
   "execution_count": null,
   "id": "acded0f0",
   "metadata": {},
   "outputs": [],
   "source": []
=======
   "execution_count": 7,
   "id": "acded0f0",
   "metadata": {},
   "outputs": [
    {
     "name": "stdout",
     "output_type": "stream",
     "text": [
      "Collecting package metadata (current_repodata.json): ...working... done\n",
      "Solving environment: ...working... failed with initial frozen solve. Retrying with flexible solve.\n",
      "Solving environment: ...working... failed with repodata from current_repodata.json, will retry with next repodata source.\n",
      "Collecting package metadata (repodata.json): ...working... done\n",
      "Solving environment: ...working... done\n",
      "\n",
      "## Package Plan ##\n",
      "\n",
      "  environment location: E:\\Programs\\Anaconda\\anaconda\n",
      "\n",
      "  added / updated specs:\n",
      "    - dlib\n",
      "\n",
      "\n",
      "The following packages will be downloaded:\n",
      "\n",
      "    package                    |            build\n",
      "    ---------------------------|-----------------\n",
      "    conda-4.12.0               |   py39hcbf5309_0         1.0 MB  conda-forge\n",
      "    dlib-19.22.0               |   py39hf8509d4_0         3.4 MB  conda-forge\n",
      "    python_abi-3.9             |           2_cp39           4 KB  conda-forge\n",
      "    ------------------------------------------------------------\n",
      "                                           Total:         4.4 MB\n",
      "\n",
      "The following NEW packages will be INSTALLED:\n",
      "\n",
      "  dlib               conda-forge/win-64::dlib-19.22.0-py39hf8509d4_0\n",
      "  python_abi         conda-forge/win-64::python_abi-3.9-2_cp39\n",
      "\n",
      "The following packages will be UPDATED:\n",
      "\n",
      "  conda              pkgs/main::conda-4.10.3-py39haa95532_0 --> conda-forge::conda-4.12.0-py39hcbf5309_0\n",
      "\n",
      "\n",
      "\n",
      "Downloading and Extracting Packages\n",
      "\n",
      "python_abi-3.9       | 4 KB      |            |   0% \n",
      "python_abi-3.9       | 4 KB      | ########## | 100% \n",
      "python_abi-3.9       | 4 KB      | ########## | 100% \n",
      "\n",
      "conda-4.12.0         | 1.0 MB    |            |   0% \n",
      "conda-4.12.0         | 1.0 MB    | 1          |   2% \n",
      "conda-4.12.0         | 1.0 MB    | ##9        |  29% \n",
      "conda-4.12.0         | 1.0 MB    | #######    |  71% \n",
      "conda-4.12.0         | 1.0 MB    | #########7 |  97% \n",
      "conda-4.12.0         | 1.0 MB    | ########## | 100% \n",
      "\n",
      "dlib-19.22.0         | 3.4 MB    |            |   0% \n",
      "dlib-19.22.0         | 3.4 MB    |            |   0% \n",
      "dlib-19.22.0         | 3.4 MB    | 9          |  10% \n",
      "dlib-19.22.0         | 3.4 MB    | #6         |  17% \n",
      "dlib-19.22.0         | 3.4 MB    | ##5        |  26% \n",
      "dlib-19.22.0         | 3.4 MB    | ###5       |  35% \n",
      "dlib-19.22.0         | 3.4 MB    | #####1     |  51% \n",
      "dlib-19.22.0         | 3.4 MB    | ######1    |  62% \n",
      "dlib-19.22.0         | 3.4 MB    | #######5   |  75% \n",
      "dlib-19.22.0         | 3.4 MB    | #########5 |  96% \n",
      "dlib-19.22.0         | 3.4 MB    | ########## | 100% \n",
      "Preparing transaction: ...working... done\n",
      "\n",
      "Note: you may need to restart the kernel to use updated packages.Verifying transaction: ...working... done\n",
      "Executing transaction: ...working... done\n",
      "\n"
     ]
    },
    {
     "name": "stderr",
     "output_type": "stream",
     "text": [
      "\n",
      "\n",
      "==> WARNING: A newer version of conda exists. <==\n",
      "  current version: 4.10.3\n",
      "  latest version: 23.1.0\n",
      "\n",
      "Please update conda by running\n",
      "\n",
      "    $ conda update -n base -c defaults conda\n",
      "\n",
      "\n"
     ]
    }
   ],
   "source": [
    " conda install -c conda-forge dlib"
   ]
  },
  {
   "cell_type": "code",
   "execution_count": 6,
   "id": "91d1b9df",
   "metadata": {},
   "outputs": [
    {
     "name": "stdout",
     "output_type": "stream",
     "text": [
      "Requirement already satisfied: opencv-python in e:\\programs\\anaconda\\anaconda\\lib\\site-packages (4.7.0.68)\n",
      "Requirement already satisfied: numpy>=1.19.3 in e:\\programs\\anaconda\\anaconda\\lib\\site-packages (from opencv-python) (1.20.3)\n"
     ]
    }
   ],
   "source": [
    "! pip install opencv-python"
   ]
  },
  {
   "cell_type": "code",
   "execution_count": 8,
   "id": "79185ec6",
   "metadata": {},
   "outputs": [
    {
     "name": "stdout",
     "output_type": "stream",
     "text": [
      "Collecting package metadata (current_repodata.json): ...working... done\n",
      "Solving environment: ...working... done\n",
      "\n",
      "## Package Plan ##\n",
      "\n",
      "  environment location: E:\\Programs\\Anaconda\\anaconda\n",
      "\n",
      "  added / updated specs:\n",
      "    - conda\n",
      "\n",
      "\n",
      "The following packages will be downloaded:\n",
      "\n",
      "    package                    |            build\n",
      "    ---------------------------|-----------------\n",
      "    conda-package-handling-2.0.2|   py39haa95532_0         286 KB\n",
      "    conda-package-streaming-0.7.0|   py39haa95532_0          27 KB\n",
      "    pyjwt-2.4.0                |   py39haa95532_0          38 KB\n",
      "    zstandard-0.18.0           |   py39h2bbff1b_0         310 KB\n",
      "    ------------------------------------------------------------\n",
      "                                           Total:         661 KB\n",
      "\n",
      "The following NEW packages will be INSTALLED:\n",
      "\n",
      "  conda-package-str~ pkgs/main/win-64::conda-package-streaming-0.7.0-py39haa95532_0\n",
      "  zstandard          pkgs/main/win-64::zstandard-0.18.0-py39h2bbff1b_0\n",
      "\n",
      "The following packages will be UPDATED:\n",
      "\n",
      "  conda-package-han~                   1.7.3-py39h8cc25b3_1 --> 2.0.2-py39haa95532_0\n",
      "  pyjwt                                2.1.0-py39haa95532_0 --> 2.4.0-py39haa95532_0\n",
      "\n",
      "\n",
      "\n",
      "Downloading and Extracting Packages\n",
      "\n",
      "pyjwt-2.4.0          | 38 KB     |            |   0% \n",
      "pyjwt-2.4.0          | 38 KB     | ####2      |  42% \n",
      "pyjwt-2.4.0          | 38 KB     | ########## | 100% \n",
      "pyjwt-2.4.0          | 38 KB     | ########## | 100% \n",
      "\n",
      "zstandard-0.18.0     | 310 KB    |            |   0% \n",
      "zstandard-0.18.0     | 310 KB    | 5          |   5% \n",
      "zstandard-0.18.0     | 310 KB    | ######7    |  67% \n",
      "zstandard-0.18.0     | 310 KB    | ########## | 100% \n",
      "\n",
      "Note: you may need to restart the kernel to use updated packages.\n",
      "conda-package-handli | 286 KB    |            |   0% \n",
      "conda-package-handli | 286 KB    | ####4      |  45% \n",
      "conda-package-handli | 286 KB    | ########## | 100% \n",
      "conda-package-handli | 286 KB    | ########## | 100% \n",
      "\n",
      "conda-package-stream | 27 KB     |            |   0% \n",
      "conda-package-stream | 27 KB     | ########## | 100% \n",
      "conda-package-stream | 27 KB     | ########## | 100% \n",
      "Preparing transaction: ...working... done\n",
      "Verifying transaction: ...working... done\n",
      "Executing transaction: ...working... done\n",
      "\n"
     ]
    }
   ],
   "source": [
    "conda update -n base -c defaults conda"
   ]
>>>>>>> ca1f3c2a14ec87312699bc0a8e633579a521c800
  },
  {
   "cell_type": "code",
   "execution_count": null,
<<<<<<< HEAD
   "id": "91d1b9df",
=======
   "id": "a43ed609",
   "metadata": {},
   "outputs": [],
   "source": [
    "conda create -n envname"
   ]
  },
  {
   "cell_type": "code",
   "execution_count": null,
   "id": "b07026e3",
>>>>>>> ca1f3c2a14ec87312699bc0a8e633579a521c800
   "metadata": {},
   "outputs": [],
   "source": []
  }
 ],
 "metadata": {
  "kernelspec": {
   "display_name": "Python 3 (ipykernel)",
   "language": "python",
   "name": "python3"
  },
  "language_info": {
   "codemirror_mode": {
    "name": "ipython",
    "version": 3
   },
   "file_extension": ".py",
   "mimetype": "text/x-python",
   "name": "python",
   "nbconvert_exporter": "python",
   "pygments_lexer": "ipython3",
<<<<<<< HEAD
   "version": "3.9.12"
=======
   "version": "3.9.7"
  },
  "vscode": {
   "interpreter": {
    "hash": "63963b3f4c440940f0b94a3100916033a226cb4f45979123153792d60aa56d6a"
   }
>>>>>>> ca1f3c2a14ec87312699bc0a8e633579a521c800
  }
 },
 "nbformat": 4,
 "nbformat_minor": 5
}
