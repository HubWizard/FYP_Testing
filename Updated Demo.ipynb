{
 "cells": [
  {
   "cell_type": "code",
   "execution_count": null,
   "metadata": {},
   "outputs": [],
   "source": [
    "import cv2\n",
    "from gaze_tracking import GazeTracking\n",
    "    \n",
    "gaze = GazeTracking()\n",
    "webcam = cv2.VideoCapture(0)\n",
    "    \n",
    "while True:\n",
    "        # We get a new frame from the webcam\n",
    "     _, frame = webcam.read()\n",
    "    \n",
    "        # We send this frame to GazeTracking to analyze it\n",
    "     gaze.refresh(frame)\n",
    "    \n",
    "     frame = gaze.annotated_frame()\n",
    "     text = \"\"\n",
    "    \n",
    "     if gaze.is_blinking():\n",
    "            text = \"Blinking\"\n",
    "     elif gaze.is_bottom() and gaze.is_center():\n",
    "            text = \"Looking bottom\"\n",
    "     elif gaze.is_top() and gaze.is_center():\n",
    "            text = \"Looking top\"            \n",
    "     elif gaze.is_center():\n",
    "            text = \"Looking center\"\n",
    "     elif gaze.is_top() and gaze.is_right():\n",
    "            text = \"Looking Top Right\"\n",
    "     elif gaze.is_bottom() and gaze.is_right():\n",
    "            text = \"Looking Bottom Right\"\n",
    "     elif gaze.is_top() and gaze.is_left():\n",
    "            text = \"Looking Top Left\"\n",
    "     elif gaze.is_bottom() and gaze.is_left():\n",
    "            text = \"Looking Bottom Left\"\n",
    "     elif gaze.is_right():\n",
    "            text = \"Looking right\"\n",
    "     elif gaze.is_left():\n",
    "            text = \"Looking left\"\n",
    "       \n",
    "        \n",
    "    \n",
    "     cv2.putText(frame, text, (90,60), cv2.FONT_HERSHEY_DUPLEX, 1.6, (147,58,31), 2)\n",
    "    \n",
    "     left_pupil = gaze.pupil_left_coords()\n",
    "     right_pupil = gaze.pupil_right_coords()\n",
    "     vert_ratio = gaze.vertical_ratio()\n",
    "     horz_ratio = gaze.horizontal_ratio()\n",
    "     cv2.putText(frame, \"Left pupil:  \" + str(left_pupil), (10 ,130), cv2.FONT_HERSHEY_DUPLEX, 0.95, (255, 255, 255), 1)\n",
    "     cv2.putText(frame ,\"Right pupil: \" + str(right_pupil), (10 ,165), cv2.FONT_HERSHEY_DUPLEX, 0.95, (255, 255, 255), 1)\n",
    "     cv2.putText(frame ,\"Vertical Ratio \" + str(vert_ratio), (10 ,200), cv2.FONT_HERSHEY_DUPLEX, 0.95, (255, 255, 255), 1)\n",
    "     cv2.putText(frame ,\"Horizontal Ratio \" + str(horz_ratio), (10, 235), cv2.FONT_HERSHEY_DUPLEX, 0.95, (255 ,255, 255), 1)\n",
    "     cv2.imshow(\"Tester 1 callibration\", frame)\n",
    "    \n",
<<<<<<< HEAD
    "     if cv2.waitKey(5) == 27:\n",
    "        break\n",
=======
    "\n",
>>>>>>> 1065e31a3fee9b4f91840273898069a34592daca
    "       \n",
    "webcam.release()\n",
    "\n",
    "cv2.destroyAllWindows()"
   ]
  },
  {
<<<<<<< HEAD
   "cell_type": "markdown",
   "metadata": {},
=======
   "cell_type": "code",
   "execution_count": 2,
   "metadata": {},
   "outputs": [
    {
     "ename": "SyntaxError",
     "evalue": "invalid syntax (785333161.py, line 81)",
     "output_type": "error",
     "traceback": [
      "\u001b[1;36m  Input \u001b[1;32mIn [2]\u001b[1;36m\u001b[0m\n\u001b[1;33m    if cv2.waitKey(5) == 27\u001b[0m\n\u001b[1;37m                           ^\u001b[0m\n\u001b[1;31mSyntaxError\u001b[0m\u001b[1;31m:\u001b[0m invalid syntax\n"
     ]
    }
   ],
>>>>>>> 1065e31a3fee9b4f91840273898069a34592daca
   "source": [
    "# %load openpose.py\n",
    "# To use Inference Engine backend, specify location of plugins:\n",
    "# export LD_LIBRARY_PATH=/opt/intel/deeplearning_deploymenttoolkit/deployment_tools/external/mklml_lnx/lib:$LD_LIBRARY_PATH\n",
<<<<<<< HEAD
    "import cv2 as cv\n",
=======
    "import cv2\n",
>>>>>>> 1065e31a3fee9b4f91840273898069a34592daca
    "import numpy as np\n",
    "\n",
    "##parser = argparse.ArgumentParser()\n",
    "##parser.add_argument('--input',default =None, help='Path to image or video. Skip to capture frames from camera')\n",
    "##parser.add_argument('--thr', default=0.2, type=float, help='Threshold value for pose parts heat map')\n",
    "##parser.add_argument('--width', default=368, type=int, help='Resize input to specific width.')\n",
    "##parser.add_argument('--height', default=368, type=int, help='Resize input to specific height.')\n",
    "\n",
    "##args = parser.parse_args()\n",
    "\n",
    "BODY_PARTS = { \"Nose\": 0, \"Neck\": 1, \"RShoulder\": 2, \"RElbow\": 3, \"RWrist\": 4,\n",
    "               \"LShoulder\": 5, \"LElbow\": 6, \"LWrist\": 7, \"RHip\": 8, \"RKnee\": 9,\n",
    "               \"RAnkle\": 10, \"LHip\": 11, \"LKnee\": 12, \"LAnkle\": 13, \"REye\": 14,\n",
    "               \"LEye\": 15, \"REar\": 16, \"LEar\": 17, \"Background\": 18 }\n",
    "\n",
    "POSE_PAIRS = [ [\"Neck\", \"RShoulder\"], [\"Neck\", \"LShoulder\"], [\"RShoulder\", \"RElbow\"],\n",
    "               [\"RElbow\", \"RWrist\"], [\"LShoulder\", \"LElbow\"], [\"LElbow\", \"LWrist\"],\n",
    "               [\"Neck\", \"RHip\"], [\"RHip\", \"RKnee\"], [\"RKnee\", \"RAnkle\"], [\"Neck\", \"LHip\"],\n",
    "               [\"LHip\", \"LKnee\"], [\"LKnee\", \"LAnkle\"], [\"Neck\", \"Nose\"], [\"Nose\", \"REye\"],\n",
    "               [\"REye\", \"REar\"], [\"Nose\", \"LEye\"], [\"LEye\", \"LEar\"] ]\n",
    "\n",
    "inWidth = 368\n",
    "inHeight = 368\n",
    "\n",
<<<<<<< HEAD
    "net = cv.dnn.readNetFromTensorflow(\"graph_opt.pb\")\n",
    "\n",
    "cap = cv.VideoCapture(1)\n",
    "\n",
    "while cv.waitKey(1) < 0:\n",
    "    hasFrame, frame = cap.read()\n",
    "    if not hasFrame:\n",
    "        cv.waitKey()\n",
=======
    "net = cv2.dnn.readNetFromTensorflow(\"graph_opt.pb\")\n",
    "\n",
    "cap = cv2.VideoCapture(1)\n",
    "\n",
    "while cv2.waitKey(1) < 0:\n",
    "    hasFrame, frame = cap.read()\n",
    "    if not hasFrame:\n",
    "        cv2.waitKey()\n",
>>>>>>> 1065e31a3fee9b4f91840273898069a34592daca
    "        break\n",
    "\n",
    "    frameWidth = frame.shape[1]\n",
    "    frameHeight = frame.shape[0]\n",
    "    \n",
<<<<<<< HEAD
    "    net.setInput(cv.dnn.blobFromImage(frame, 1.0, (inWidth, inHeight), (127.5, 127.5, 127.5), swapRB=True, crop=False))\n",
=======
    "    net.setInput(cv2.dnn.blobFromImage(frame, 1.0, (inWidth, inHeight), (127.5, 127.5, 127.5), swapRB=True, crop=False))\n",
>>>>>>> 1065e31a3fee9b4f91840273898069a34592daca
    "    out = net.forward()\n",
    "    out = out[:, :19, :, :]  # MobileNet output [1, 57, -1, -1], we only need the first 19 elements\n",
    "\n",
    "    assert(len(BODY_PARTS) == out.shape[1])\n",
    "\n",
    "    points = []\n",
    "    for i in range(len(BODY_PARTS)):\n",
    "        # Slice heatmap of corresponging body's part.\n",
    "        heatMap = out[0, i, :, :]\n",
    "\n",
    "        # Originally, we try to find all the local maximums. To simplify a sample\n",
    "        # we just find a global one. However only a single pose at the same time\n",
    "        # could be detected this way.\n",
<<<<<<< HEAD
    "        _, conf, _, point = cv.minMaxLoc(heatMap)\n",
=======
    "        _, conf, _, point = cv2.minMaxLoc(heatMap)\n",
>>>>>>> 1065e31a3fee9b4f91840273898069a34592daca
    "        x = (frameWidth * point[0]) / out.shape[3]\n",
    "        y = (frameHeight * point[1]) / out.shape[2]\n",
    "        # Add a point if it's confidence is higher than threshold.\n",
    "        points.append((int(x), int(y)) if conf > 0.2 else None)\n",
    "\n",
    "    for pair in POSE_PAIRS:\n",
    "        partFrom = pair[0]\n",
    "        partTo = pair[1]\n",
    "        assert(partFrom in BODY_PARTS)\n",
    "        assert(partTo in BODY_PARTS)\n",
    "\n",
    "        idFrom = BODY_PARTS[partFrom]\n",
    "        idTo = BODY_PARTS[partTo]\n",
    "\n",
    "        if points[idFrom] and points[idTo]:\n",
<<<<<<< HEAD
    "            cv.line(frame, points[idFrom], points[idTo], (0, 255, 0), 3)\n",
    "            cv.ellipse(frame, points[idFrom], (3, 3), 0, 0, 360, (0, 0, 255), cv.FILLED)\n",
    "            cv.ellipse(frame, points[idTo], (3, 3), 0, 0, 360, (0, 0, 255), cv.FILLED)\n",
    "\n",
    "    t, _ = net.getPerfProfile()\n",
    "    freq = cv.getTickFrequency() / 1000\n",
    "    cv.putText(frame, '%.2fms' % (t / freq), (10, 20), cv.FONT_HERSHEY_SIMPLEX, 0.5, (0, 0, 0))\n",
    "\n",
    "    cv.imshow('OpenPose using OpenCV', frame)"
=======
    "            cv2.line(frame, points[idFrom], points[idTo], (0, 255, 0), 3)\n",
    "            cv2.ellipse(frame, points[idFrom], (3, 3), 0, 0, 360, (0, 0, 255), cv2.FILLED)\n",
    "            cv2.ellipse(frame, points[idTo], (3, 3), 0, 0, 360, (0, 0, 255), cv2.FILLED)\n",
    "\n",
    "    t, _ = net.getPerfProfile()\n",
    "    freq = cv2.getTickFrequency() / 1000\n",
    "    cv2.putText(frame, '%.2fms' % (t / freq), (10, 20), cv2.FONT_HERSHEY_SIMPLEX, 0.5, (0, 0, 0))\n",
    "\n",
    "    cv2.imshow('OpenPose using OpenCV', frame)\n",
    "    if cv2.waitKey(5) == 27\n",
    "    break\n",
    "webcam.release()\n",
    "\n",
    "cv2.destroyAllWindows()"
>>>>>>> 1065e31a3fee9b4f91840273898069a34592daca
   ]
  },
  {
   "cell_type": "code",
<<<<<<< HEAD
   "execution_count": 5,
   "metadata": {
    "scrolled": true
   },
   "outputs": [
    {
     "name": "stdout",
     "output_type": "stream",
     "text": [
      "['0', '0', '0', '1', '0', '0', '0', '1', '0', '1', '0', '1', '0', '1', '1', '0', '0', '0', '0', '0', '1', '0', '0', '0', '1', '1', '1', '1', '0', '1', '1', '1', '0', '0', '0', '0', '0', '0', '1', '1', '1', '1', '0', '1', '1', '0', '1', '1', '1', '1', '0', '1', '1', '0', '1', '1', '1', '1', '0', '0', '0', '0', '0', '1', '1', '0', '0', '0', '1', '1', '1', '0', '1', '1', '1', '0', '0', '1', '1', '1', '1', '1', '1', '1', '1', '1', '1', '1', '1', '1', '1', '1', '1', '1', '1', '0', '0', '0']\n"
     ]
    },
    {
     "data": {
      "image/png": "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\n",
      "text/plain": [
       "<Figure size 432x288 with 1 Axes>"
      ]
     },
     "metadata": {
      "needs_background": "light"
     },
     "output_type": "display_data"
    },
    {
     "data": {
      "text/plain": [
       "<Figure size 432x288 with 0 Axes>"
      ]
     },
     "metadata": {},
     "output_type": "display_data"
    }
   ],
   "source": [
    "import cv2\n",
    "import numpy as np\n",
    "import math\n",
    "import matplotlib.pyplot as plt\n",
    "from gaze_tracking import GazeTracking\n",
    "\n",
    "\n",
    "    \n",
    "gaze = GazeTracking()\n",
    "webcam = cv2.VideoCapture(0)\n",
    "\n",
=======
   "execution_count": 1,
   "metadata": {},
   "outputs": [],
   "source": [
    "import cv2\n",
    "import numpy as np\n",
    "from gaze_tracking import GazeTracking\n",
    "    \n",
    "gaze = GazeTracking()\n",
    "webcam = cv2.VideoCapture(0)\n",
>>>>>>> 1065e31a3fee9b4f91840273898069a34592daca
    "BODY_PARTS = { \"Nose\": 0, \"Neck\": 1, \"RShoulder\": 2, \"RElbow\": 3, \"RWrist\": 4,\n",
    "               \"LShoulder\": 5, \"LElbow\": 6, \"LWrist\": 7, \"RHip\": 8, \"RKnee\": 9,\n",
    "               \"RAnkle\": 10, \"LHip\": 11, \"LKnee\": 12, \"LAnkle\": 13, \"REye\": 14,\n",
    "               \"LEye\": 15, \"REar\": 16, \"LEar\": 17, \"Background\": 18 }\n",
    "\n",
    "POSE_PAIRS = [ [\"Neck\", \"RShoulder\"], [\"Neck\", \"LShoulder\"], [\"RShoulder\", \"RElbow\"],\n",
    "               [\"RElbow\", \"RWrist\"], [\"LShoulder\", \"LElbow\"], [\"LElbow\", \"LWrist\"],\n",
    "               [\"Neck\", \"RHip\"], [\"RHip\", \"RKnee\"], [\"RKnee\", \"RAnkle\"], [\"Neck\", \"LHip\"],\n",
    "               [\"LHip\", \"LKnee\"], [\"LKnee\", \"LAnkle\"], [\"Neck\", \"Nose\"], [\"Nose\", \"REye\"],\n",
    "               [\"REye\", \"REar\"], [\"Nose\", \"LEye\"], [\"LEye\", \"LEar\"] ]\n",
    "\n",
    "inWidth = 368\n",
    "inHeight = 368\n",
    "\n",
    "net = cv2.dnn.readNetFromTensorflow(\"graph_opt.pb\")\n",
    "\n",
<<<<<<< HEAD
    "cap = cv2.VideoCapture(0)\n",
    "time_series=[]\n",
    "while True:\n",
    "        # We get a new frame from the webcam\n",
    "     _, frame = webcam.read()\n",
    "    \n",
=======
    "cap = cv2.VideoCapture(1)\n",
    "while True:\n",
    "        # We get a new frame from the webcam\n",
    "     _, frame = webcam.read()\n",
>>>>>>> 1065e31a3fee9b4f91840273898069a34592daca
    "        # We send this frame to GazeTracking to analyze it\n",
    "     gaze.refresh(frame)\n",
    "    \n",
    "     frame = gaze.annotated_frame()\n",
    "     text = \"\"\n",
    "    \n",
<<<<<<< HEAD
    "\n",
    "     if gaze.is_center():#and not gaze.is_bottom() and not gaze.is_top():\n",
    "            if gaze.is_top():\n",
    "                text = \"Looking Top\"\n",
    "            elif gaze.is_bottom():\n",
    "                text = \"Looking Bottom\"\n",
    "            else:\n",
    "                text = \"Looking center\"\n",
    "     elif gaze.is_bottom() and gaze.is_right():\n",
    "            text = \"Looking Bottom Right\"\n",
    "     elif gaze.is_bottom() and gaze.is_left():\n",
    "            text = \"Looking Bottom Left\"\n",
    "     elif gaze.is_bottom():\n",
    "            text = \"Looking bottom\"\n",
    "     elif gaze.is_top():\n",
    "            text = \"Looking top\"            \n",
=======
    "     if gaze.is_blinking():\n",
    "            text = \"Blinking\"\n",
    "     elif gaze.is_bottom() and gaze.is_center():\n",
    "            text = \"Looking bottom\"\n",
    "     elif gaze.is_top() and gaze.is_center():\n",
    "            text = \"Looking top\"            \n",
    "     elif gaze.is_center():\n",
    "            text = \"Looking center\"\n",
>>>>>>> 1065e31a3fee9b4f91840273898069a34592daca
    "     elif gaze.is_top() and gaze.is_right():\n",
    "            text = \"Looking Top Right\"\n",
    "     elif gaze.is_bottom() and gaze.is_right():\n",
    "            text = \"Looking Bottom Right\"\n",
    "     elif gaze.is_top() and gaze.is_left():\n",
    "            text = \"Looking Top Left\"\n",
<<<<<<< HEAD
=======
    "     elif gaze.is_bottom() and gaze.is_left():\n",
    "            text = \"Looking Bottom Left\"\n",
>>>>>>> 1065e31a3fee9b4f91840273898069a34592daca
    "     elif gaze.is_right():\n",
    "            text = \"Looking right\"\n",
    "     elif gaze.is_left():\n",
    "            text = \"Looking left\"\n",
    "       \n",
    "        \n",
    "    \n",
    "     cv2.putText(frame, text, (90,60), cv2.FONT_HERSHEY_DUPLEX, 1.6, (147,58,31), 2)\n",
    "    \n",
    "     left_pupil = gaze.pupil_left_coords()\n",
    "     right_pupil = gaze.pupil_right_coords()\n",
    "     vert_ratio = gaze.vertical_ratio()\n",
    "     horz_ratio = gaze.horizontal_ratio()\n",
<<<<<<< HEAD
    "     ##cv2.putText(frame, \"Left pupil:  \" + str(left_pupil), (10 ,130), cv2.FONT_HERSHEY_DUPLEX, 0.95, (255, 255, 255), 1)\n",
    "     #cv2.putText(frame ,\"Right pupil: \" + str(right_pupil), (10 ,165), cv2.FONT_HERSHEY_DUPLEX, 0.95, (255, 255, 255), 1)\n",
    "     cv2.putText(frame ,\"Vertical Ratio \" + str(vert_ratio), (10 ,200), cv2.FONT_HERSHEY_DUPLEX, 0.95, (147,58,31), 1)\n",
    "     cv2.putText(frame ,\"Horizontal Ratio \" + str(horz_ratio), (10, 235), cv2.FONT_HERSHEY_DUPLEX, 0.95, (147,58,31), 1)\n",
    "     #cv2.imshow(\"Tester 1 callibration\", frame)\n",
    "     #########################################################\n",
=======
    "     #cv2.putText(frame, \"Left pupil:  \" + str(left_pupil), (10 ,130), cv2.FONT_HERSHEY_DUPLEX, 0.95, (255, 255, 255), 1)\n",
    "     #cv2.putText(frame ,\"Right pupil: \" + str(right_pupil), (10 ,165), cv2.FONT_HERSHEY_DUPLEX, 0.95, (255, 255, 255), 1)\n",
    "     #cv2.putText(frame ,\"Vertical Ratio \" + str(vert_ratio), (10 ,200), cv2.FONT_HERSHEY_DUPLEX, 0.95, (255, 255, 255), 1)\n",
    "     #cv2.putText(frame ,\"Horizontal Ratio \" + str(horz_ratio), (10, 235), cv2.FONT_HERSHEY_DUPLEX, 0.95, (255 ,255, 255), 1)\n",
    "     #cv2.imshow(\"Tester 1 callibration\", frame)\n",
    "     #################################################################\n",
>>>>>>> 1065e31a3fee9b4f91840273898069a34592daca
    "     frameWidth = frame.shape[1]\n",
    "     frameHeight = frame.shape[0]\n",
    "    \n",
    "     net.setInput(cv2.dnn.blobFromImage(frame, 1.0, (inWidth, inHeight), (127.5, 127.5, 127.5), swapRB=True, crop=False))\n",
    "     out = net.forward()\n",
<<<<<<< HEAD
    "     out = out[:, :19, :, :]\n",
    "\n",
    "     assert(len(BODY_PARTS) == out.shape[1])\n",
    "     \n",
    "     points = []\n",
    "     for i in range(len(BODY_PARTS)):\n",
    "         # Slice heatmap of corresponging body's part.\n",
    "         heatMap = out[0, i, :, :]\n",
    "         _, conf, _, point = cv2.minMaxLoc(heatMap)\n",
    "         x = (frameWidth * point[0]) / out.shape[3]\n",
    "         y = (frameHeight * point[1]) / out.shape[2]\n",
    "         # Add a point if it's confidence is higher than threshold.\n",
    "         points.append((int(x), int(y)) if conf > 0.2 else None)\n",
    "\n",
    "     for pair in POSE_PAIRS:\n",
    "         partFrom = pair[0]\n",
    "         partTo = pair[1]\n",
    "         assert(partFrom in BODY_PARTS)\n",
    "         assert(partTo in BODY_PARTS)\n",
    "\n",
    "         idFrom = BODY_PARTS[partFrom]\n",
    "         idTo = BODY_PARTS[partTo]\n",
    "\n",
    "         if points[idFrom] and points[idTo]:\n",
    "             cv2.line(frame, points[idFrom], points[idTo], (0, 255, 0), 3)\n",
    "             cv2.ellipse(frame, points[idFrom], (3, 3), 0, 0, 360, (0, 0, 255), cv2.FILLED)\n",
    "             cv2.ellipse(frame, points[idTo], (3, 3), 0, 0, 360, (0, 0, 255), cv2.FILLED)\n",
    "     def angle_between_points(point1, point2):\n",
    "         if (point1 != None and point2 != None):\n",
    "            x1, y1 = point1\n",
    "            x2, y2 = point2\n",
    "            return math.degrees(math.atan2(y2 - y1, x2 - x1))\n",
    "         else:\n",
    "            return 0\n",
    "     t, _ = net.getPerfProfile()\n",
    "     freq = cv2.getTickFrequency() / 1000\n",
    "     cv2.putText(frame, str(angle_between_points(points[5],points[6])), (90,120), cv2.FONT_HERSHEY_DUPLEX, 1.6, (147,58,31), 2)\n",
    "     behave= \"\"\n",
    "     if (gaze.is_left() and not gaze.is_top()) or (gaze.is_right() and not gaze.is_top()) :\n",
    "        behave = \"Abnormal eyes\"\n",
    "        time_series.append(\"0\")\n",
    "     elif angle_between_points(points[2],points[3]) > 160 or angle_between_points(points[2],points[3])<90 or angle_between_points(points[5],points[6]) < 30 or angle_between_points(points[5],points[6]) > 90:\n",
    "        behave = \"abnormal body\"\n",
    "        time_series.append(\"0\")\n",
    "     else:\n",
    "        behave = \"Normal\"\n",
    "        time_series.append(\"1\")\n",
    "     cv2.putText(frame, behave, (90,180), cv2.FONT_HERSHEY_DUPLEX, 1.6, (147,58,31), 2)\n",
    "     cv2.imshow('OpenPose using OpenCV', frame)\n",
    "     if cv2.waitKey(5) == 27:\n",
    "        break\n",
    "\n",
    "webcam.release()\n",
    "cv2.destroyAllWindows()\n",
    "print(time_series)\n",
    "time_values = np.arange(len(time_series))\n",
    "plt.plot(time_values, time_series)\n",
    "plt.title(\"Time Series Graph\")\n",
    "plt.xlabel(\"Time\")\n",
    "plt.ylabel(\"Value\")\n",
    "plt.show()\n"
   ]
  },
  {
   "cell_type": "code",
   "execution_count": null,
   "metadata": {},
   "outputs": [],
   "source": [
    "conda update numpy"
   ]
  },
  {
   "cell_type": "code",
   "execution_count": null,
   "metadata": {},
   "outputs": [],
   "source": [
    "conda list numpy"
   ]
  },
  {
   "cell_type": "code",
   "execution_count": null,
   "metadata": {},
   "outputs": [],
   "source": [
    "conda list env"
   ]
  },
  {
   "cell_type": "code",
   "execution_count": null,
   "metadata": {},
   "outputs": [],
   "source": [
    "conda info --envs\n"
=======
    "     out = out[:, :19, :, :]  # MobileNet output [1, 57, -1, -1], we only need the first 19 elements\n",
    "\n",
    "     assert(len(BODY_PARTS) == out.shape[1])\n",
    "\n",
    "     points = []\n",
    "     for i in range(len(BODY_PARTS)):\n",
    "        # Slice heatmap of corresponging body's part.\n",
    "        heatMap = out[0, i, :, :]\n",
    "\n",
    "        # Originally, we try to find all the local maximums. To simplify a sample\n",
    "        # we just find a global one. However only a single pose at the same time\n",
    "        # could be detected this way.\n",
    "        _, conf, _, point = cv2.minMaxLoc(heatMap)\n",
    "        x = (frameWidth * point[0]) / out.shape[3]\n",
    "        y = (frameHeight * point[1]) / out.shape[2]\n",
    "        # Add a point if it's confidence is higher than threshold.\n",
    "        points.append((int(x), int(y)) if conf > 0.2 else None)\n",
    "\n",
    "     for pair in POSE_PAIRS:\n",
    "        partFrom = pair[0]\n",
    "        partTo = pair[1]\n",
    "        assert(partFrom in BODY_PARTS)\n",
    "        assert(partTo in BODY_PARTS)\n",
    "\n",
    "        idFrom = BODY_PARTS[partFrom]\n",
    "        idTo = BODY_PARTS[partTo]\n",
    "\n",
    "        if points[idFrom] and points[idTo]:\n",
    "            cv2.line(frame, points[idFrom], points[idTo], (0, 255, 0), 3)\n",
    "            cv2.ellipse(frame, points[idFrom], (3, 3), 0, 0, 360, (0, 0, 255), cv2.FILLED)\n",
    "            cv2.ellipse(frame, points[idTo], (3, 3), 0, 0, 360, (0, 0, 255), cv2.FILLED)\n",
    "\n",
    "     t, _ = net.getPerfProfile()\n",
    "     freq = cv2.getTickFrequency() / 1000\n",
    "     cv2.putText(frame, '%.2fms' % (t / freq), (10, 20), cv2.FONT_HERSHEY_SIMPLEX, 0.5, (0, 0, 0))\n",
    "\n",
    "     cv2.imshow('OpenPose using OpenCV', frame)\n",
    "     if cv2.waitKey(5) == 27:\n",
    "         break\n",
    "       \n",
    "webcam.release()\n",
    "\n",
    "cv2.destroyAllWindows()"
>>>>>>> 1065e31a3fee9b4f91840273898069a34592daca
   ]
  },
  {
   "cell_type": "code",
   "execution_count": null,
   "metadata": {},
   "outputs": [],
   "source": []
  }
 ],
 "metadata": {
  "kernelspec": {
   "display_name": "Python 3 (ipykernel)",
   "language": "python",
   "name": "python3"
  },
  "language_info": {
   "codemirror_mode": {
    "name": "ipython",
    "version": 3
   },
   "file_extension": ".py",
   "mimetype": "text/x-python",
   "name": "python",
   "nbconvert_exporter": "python",
   "pygments_lexer": "ipython3",
   "version": "3.9.12"
  },
  "vscode": {
   "interpreter": {
    "hash": "63963b3f4c440940f0b94a3100916033a226cb4f45979123153792d60aa56d6a"
   }
  }
 },
 "nbformat": 4,
 "nbformat_minor": 2
}
